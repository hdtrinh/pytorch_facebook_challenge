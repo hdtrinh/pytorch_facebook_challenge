{
  "nbformat": 4,
  "nbformat_minor": 0,
  "metadata": {
    "colab": {
      "name": "Copy of Character_Level_RNN_Exercise.ipynb",
      "version": "0.3.2",
      "provenance": [],
      "collapsed_sections": []
    },
    "kernelspec": {
      "name": "python3",
      "display_name": "Python 3"
    },
    "accelerator": "GPU"
  },
  "cells": [
    {
      "metadata": {
        "id": "RVgg6z0nbaj-",
        "colab_type": "text"
      },
      "cell_type": "markdown",
      "source": [
        "# Character-Level LSTM in PyTorch\n",
        "\n",
        "In this notebook, I'll construct a character-level LSTM with PyTorch. The network will train character by character on some text, then generate new text character by character. As an example, I will train on Anna Karenina. **This model will be able to generate new text based on the text from the book!**\n",
        "\n",
        "This network is based off of Andrej Karpathy's [post on RNNs](http://karpathy.github.io/2015/05/21/rnn-effectiveness/) and [implementation in Torch](https://github.com/karpathy/char-rnn). Below is the general architecture of the character-wise RNN.\n",
        "\n",
        "<img src=\"https://github.com/udacity/deep-learning-v2-pytorch/blob/master/recurrent-neural-networks/char-rnn/assets/charseq.jpeg?raw=1\" width=\"500\">"
      ]
    },
    {
      "metadata": {
        "id": "_c-NmI2ebakA",
        "colab_type": "text"
      },
      "cell_type": "markdown",
      "source": [
        "First let's load in our required resources for data loading and model creation."
      ]
    },
    {
      "metadata": {
        "id": "O7tOk8GTbiBk",
        "colab_type": "code",
        "outputId": "bd0bc7ca-cfbf-4345-e881-634076eb9c51",
        "colab": {
          "base_uri": "https://localhost:8080/",
          "height": 54
        }
      },
      "cell_type": "code",
      "source": [
        "# http://pytorch.org/\n",
        "from os.path import exists\n",
        "from wheel.pep425tags import get_abbr_impl, get_impl_ver, get_abi_tag\n",
        "platform = '{}{}-{}'.format(get_abbr_impl(), get_impl_ver(), get_abi_tag())\n",
        "cuda_output = !ldconfig -p|grep cudart.so|sed -e 's/.*\\.\\([0-9]*\\)\\.\\([0-9]*\\)$/cu\\1\\2/'\n",
        "accelerator = cuda_output[0] if exists('/dev/nvidia0') else 'cpu'\n",
        "\n",
        "!pip install -q http://download.pytorch.org/whl/{accelerator}/torch-0.4.1-{platform}-linux_x86_64.whl torchvision\n",
        "import torch"
      ],
      "execution_count": 0,
      "outputs": [
        {
          "output_type": "stream",
          "text": [
            "tcmalloc: large alloc 1073750016 bytes == 0x57598000 @  0x7fabf35c12a4 0x594e17 0x626104 0x51190a 0x4f5277 0x510c78 0x5119bd 0x4f5277 0x4f3338 0x510fb0 0x5119bd 0x4f5277 0x4f3338 0x510fb0 0x5119bd 0x4f5277 0x4f3338 0x510fb0 0x5119bd 0x4f6070 0x510c78 0x5119bd 0x4f5277 0x4f3338 0x510fb0 0x5119bd 0x4f6070 0x4f3338 0x510fb0 0x5119bd 0x4f6070\n"
          ],
          "name": "stdout"
        }
      ]
    },
    {
      "metadata": {
        "id": "CPI1r5DfbakC",
        "colab_type": "code",
        "colab": {}
      },
      "cell_type": "code",
      "source": [
        "import numpy as np\n",
        "import torch\n",
        "from torch import nn\n",
        "import torch.nn.functional as F"
      ],
      "execution_count": 0,
      "outputs": []
    },
    {
      "metadata": {
        "id": "hexlJs7rbakH",
        "colab_type": "text"
      },
      "cell_type": "markdown",
      "source": [
        "## Load in Data\n",
        "\n",
        "Then, we'll load the Anna Karenina text file and convert it into integers for our network to use. "
      ]
    },
    {
      "metadata": {
        "id": "dUM5XwhNbakJ",
        "colab_type": "code",
        "colab": {}
      },
      "cell_type": "code",
      "source": [
        "# open text file and read in data as `text`\n",
        "with open('anna.txt', 'r') as f:\n",
        "    text = f.read()"
      ],
      "execution_count": 0,
      "outputs": []
    },
    {
      "metadata": {
        "id": "-m_fx4j_bakN",
        "colab_type": "text"
      },
      "cell_type": "markdown",
      "source": [
        "Let's check out the first 100 characters, make sure everything is peachy. According to the [American Book Review](http://americanbookreview.org/100bestlines.asp), this is the 6th best first line of a book ever."
      ]
    },
    {
      "metadata": {
        "id": "CovnC93jbakO",
        "colab_type": "code",
        "outputId": "08a6d15f-d7d0-45ea-809d-4b1f64fa8130",
        "colab": {
          "base_uri": "https://localhost:8080/",
          "height": 34
        }
      },
      "cell_type": "code",
      "source": [
        "text[:100]"
      ],
      "execution_count": 0,
      "outputs": [
        {
          "output_type": "execute_result",
          "data": {
            "text/plain": [
              "'Chapter 1\\n\\n\\nHappy families are all alike; every unhappy family is unhappy in its own\\nway.\\n\\nEverythin'"
            ]
          },
          "metadata": {
            "tags": []
          },
          "execution_count": 4
        }
      ]
    },
    {
      "metadata": {
        "id": "t--rCHdvbakS",
        "colab_type": "text"
      },
      "cell_type": "markdown",
      "source": [
        "### Tokenization\n",
        "\n",
        "In the cells, below, I'm creating a couple **dictionaries** to convert the characters to and from integers. Encoding the characters as integers makes it easier to use as input in the network."
      ]
    },
    {
      "metadata": {
        "id": "0poVzzHGbakU",
        "colab_type": "code",
        "colab": {}
      },
      "cell_type": "code",
      "source": [
        "# encode the text and map each character to an integer and vice versa\n",
        "\n",
        "# we create two dictionaries:\n",
        "# 1. int2char, which maps integers to characters\n",
        "# 2. char2int, which maps characters to unique integers\n",
        "chars = tuple(set(text))\n",
        "int2char = dict(enumerate(chars))\n",
        "char2int = {ch: ii for ii, ch in int2char.items()}\n",
        "\n",
        "# encode the text\n",
        "encoded = np.array([char2int[ch] for ch in text])"
      ],
      "execution_count": 0,
      "outputs": []
    },
    {
      "metadata": {
        "id": "8wEpYcz8bakZ",
        "colab_type": "text"
      },
      "cell_type": "markdown",
      "source": [
        "And we can see those same characters from above, encoded as integers."
      ]
    },
    {
      "metadata": {
        "id": "5IucjVBNbakZ",
        "colab_type": "code",
        "outputId": "6dae4f1b-825c-40af-bca1-3870b652d781",
        "colab": {
          "base_uri": "https://localhost:8080/",
          "height": 118
        }
      },
      "cell_type": "code",
      "source": [
        "encoded[:100]"
      ],
      "execution_count": 0,
      "outputs": [
        {
          "output_type": "execute_result",
          "data": {
            "text/plain": [
              "array([54, 43, 76, 49,  6, 60, 24, 80, 55, 27, 27, 27, 50, 76, 49, 49, 70,\n",
              "       80, 39, 76, 37, 66, 61, 66, 60,  2, 80, 76, 24, 60, 80, 76, 61, 61,\n",
              "       80, 76, 61, 66, 52, 60, 30, 80, 60,  7, 60, 24, 70, 80, 12, 41, 43,\n",
              "       76, 49, 49, 70, 80, 39, 76, 37, 66, 61, 70, 80, 66,  2, 80, 12, 41,\n",
              "       43, 76, 49, 49, 70, 80, 66, 41, 80, 66,  6,  2, 80, 74, 20, 41, 27,\n",
              "       20, 76, 70, 21, 27, 27, 14,  7, 60, 24, 70,  6, 43, 66, 41])"
            ]
          },
          "metadata": {
            "tags": []
          },
          "execution_count": 6
        }
      ]
    },
    {
      "metadata": {
        "id": "OiqUdVaJbake",
        "colab_type": "text"
      },
      "cell_type": "markdown",
      "source": [
        "## Pre-processing the data\n",
        "\n",
        "As you can see in our char-RNN image above, our LSTM expects an input that is **one-hot encoded** meaning that each character is converted into an integer (via our created dictionary) and *then* converted into a column vector where only it's corresponding integer index will have the value of 1 and the rest of the vector will be filled with 0's. Since we're one-hot encoding the data, let's make a function to do that!\n"
      ]
    },
    {
      "metadata": {
        "id": "5bKxU2Kfbakg",
        "colab_type": "code",
        "colab": {}
      },
      "cell_type": "code",
      "source": [
        "def one_hot_encode(arr, n_labels):\n",
        "    \n",
        "    # Initialize the the encoded array\n",
        "    one_hot = np.zeros((np.multiply(*arr.shape), n_labels), dtype=np.float32)\n",
        "    \n",
        "    # Fill the appropriate elements with ones\n",
        "    one_hot[np.arange(one_hot.shape[0]), arr.flatten()] = 1.\n",
        "    \n",
        "    # Finally reshape it to get back to the original array\n",
        "    one_hot = one_hot.reshape((*arr.shape, n_labels))\n",
        "    \n",
        "    return one_hot"
      ],
      "execution_count": 0,
      "outputs": []
    },
    {
      "metadata": {
        "id": "jIyBb1GEbakl",
        "colab_type": "code",
        "outputId": "5029a60e-5372-4ffc-c19c-aa5194c54b4d",
        "colab": {
          "base_uri": "https://localhost:8080/",
          "height": 67
        }
      },
      "cell_type": "code",
      "source": [
        "# check that the function works as expected\n",
        "test_seq = np.array([[3, 5, 1]])\n",
        "one_hot = one_hot_encode(test_seq, 8)\n",
        "\n",
        "print(one_hot)"
      ],
      "execution_count": 0,
      "outputs": [
        {
          "output_type": "stream",
          "text": [
            "[[[0. 0. 0. 1. 0. 0. 0. 0.]\n",
            "  [0. 0. 0. 0. 0. 1. 0. 0.]\n",
            "  [0. 1. 0. 0. 0. 0. 0. 0.]]]\n"
          ],
          "name": "stdout"
        }
      ]
    },
    {
      "metadata": {
        "id": "58UQgo_Hbakp",
        "colab_type": "text"
      },
      "cell_type": "markdown",
      "source": [
        "## Making training mini-batches\n",
        "\n",
        "\n",
        "To train on this data, we also want to create mini-batches for training. Remember that we want our batches to be multiple sequences of some desired number of sequence steps. Considering a simple example, our batches would look like this:\n",
        "\n",
        "<img src=\"https://github.com/udacity/deep-learning-v2-pytorch/blob/master/recurrent-neural-networks/char-rnn/assets/sequence_batching@1x.png?raw=1\" width=500px>\n",
        "\n",
        "\n",
        "<br>\n",
        "\n",
        "In this example, we'll take the encoded characters (passed in as the `arr` parameter) and split them into multiple sequences, given by `batch_size`. Each of our sequences will be `seq_length` long.\n",
        "\n",
        "### Creating Batches\n",
        "\n",
        "**1. The first thing we need to do is discard some of the text so we only have completely full mini-batches. **\n",
        "\n",
        "Each batch contains $N \\times M$ characters, where $N$ is the batch size (the number of sequences in a batch) and $M$ is the seq_length or number of time steps in a sequence. Then, to get the total number of batches, $K$, that we can make from the array `arr`, you divide the length of `arr` by the number of characters per batch. Once you know the number of batches, you can get the total number of characters to keep from `arr`, $N * M * K$.\n",
        "\n",
        "**2. After that, we need to split `arr` into $N$ batches. ** \n",
        "\n",
        "You can do this using `arr.reshape(size)` where `size` is a tuple containing the dimensions sizes of the reshaped array. We know we want $N$ sequences in a batch, so let's make that the size of the first dimension. For the second dimension, you can use `-1` as a placeholder in the size, it'll fill up the array with the appropriate data for you. After this, you should have an array that is $N \\times (M * K)$.\n",
        "\n",
        "**3. Now that we have this array, we can iterate through it to get our mini-batches. **\n",
        "\n",
        "The idea is each batch is a $N \\times M$ window on the $N \\times (M * K)$ array. For each subsequent batch, the window moves over by `seq_length`. We also want to create both the input and target arrays. Remember that the targets are just the inputs shifted over by one character. The way I like to do this window is use `range` to take steps of size `n_steps` from $0$ to `arr.shape[1]`, the total number of tokens in each sequence. That way, the integers you get from `range` always point to the start of a batch, and each window is `seq_length` wide.\n",
        "\n",
        "> **TODO:** Write the code for creating batches in the function below. The exercises in this notebook _will not be easy_. I've provided a notebook with solutions alongside this notebook. If you get stuck, checkout the solutions. The most important thing is that you don't copy and paste the code into here, **type out the solution code yourself.**"
      ]
    },
    {
      "metadata": {
        "id": "jfMzu-wobakp",
        "colab_type": "code",
        "colab": {}
      },
      "cell_type": "code",
      "source": [
        "def get_batches(arr, batch_size, seq_length):\n",
        "    '''Create a generator that returns batches of size\n",
        "       batch_size x seq_length from arr.\n",
        "       \n",
        "       Arguments\n",
        "       ---------\n",
        "       arr: Array you want to make batches from\n",
        "       batch_size: Batch size, the number of sequences per batch\n",
        "       seq_length: Number of encoded chars in a sequence\n",
        "    '''\n",
        "    \n",
        "    ## TODO: Get the number of batches we can make\n",
        "    batch_tot = batch_size * seq_length\n",
        "    n_batches = len(arr)//(batch_size*seq_length)\n",
        "   \n",
        "    \n",
        "    ## TODO: Keep only enough characters to make full batches\n",
        "    arr = arr[:n_batches*batch_size*seq_length]\n",
        "    \n",
        "    ## TODO: Reshape into batch_size rows\n",
        "    arr = arr.reshape(batch_size,-1)\n",
        "  \n",
        "        \n",
        "     # iterate through the array, one sequence at a time\n",
        "    for n in range(0, arr.shape[1], seq_length):\n",
        "        # The features\n",
        "        x = arr[:, n:n+seq_length]\n",
        "        # The targets, shifted by one\n",
        "        y = np.zeros_like(x)\n",
        "        try:\n",
        "            y[:, :-1], y[:, -1] = x[:, 1:], arr[:, n+seq_length]\n",
        "        except IndexError:\n",
        "            y[:, :-1], y[:, -1] = x[:, 1:], arr[:, 0]\n",
        "        yield x, y"
      ],
      "execution_count": 0,
      "outputs": []
    },
    {
      "metadata": {
        "id": "QSibCKGHeTB3",
        "colab_type": "code",
        "outputId": "dd98a95a-b79c-4b21-d0fc-5597e8b9011b",
        "colab": {
          "base_uri": "https://localhost:8080/",
          "height": 151
        }
      },
      "cell_type": "code",
      "source": [
        "arr = np.arange(12)\n",
        "# print(arr)\n",
        "for x,y in get_batches(arr, 2, 3):\n",
        "  print(x)\n",
        "for x,y in get_batches(arr, 2, 3):\n",
        "  print(y)"
      ],
      "execution_count": 0,
      "outputs": [
        {
          "output_type": "stream",
          "text": [
            "[[0 1 2]\n",
            " [6 7 8]]\n",
            "[[ 3  4  5]\n",
            " [ 9 10 11]]\n",
            "[[1 2 3]\n",
            " [7 8 9]]\n",
            "[[ 4  5  0]\n",
            " [10 11  6]]\n"
          ],
          "name": "stdout"
        }
      ]
    },
    {
      "metadata": {
        "id": "SjNebR7Vbakt",
        "colab_type": "text"
      },
      "cell_type": "markdown",
      "source": [
        "### Test Your Implementation\n",
        "\n",
        "Now I'll make some data sets and we can check out what's going on as we batch data. Here, as an example, I'm going to use a batch size of 8 and 50 sequence steps."
      ]
    },
    {
      "metadata": {
        "id": "0kiddoeNbaku",
        "colab_type": "code",
        "colab": {}
      },
      "cell_type": "code",
      "source": [
        "batches = get_batches(encoded, 8, 50)\n",
        "x, y = next(batches)"
      ],
      "execution_count": 0,
      "outputs": []
    },
    {
      "metadata": {
        "id": "baDk8U18bakz",
        "colab_type": "code",
        "outputId": "9d3b3c5b-0857-4181-8029-e1a70b581591",
        "colab": {
          "base_uri": "https://localhost:8080/",
          "height": 336
        }
      },
      "cell_type": "code",
      "source": [
        "# printing out the first 10 items in a sequence\n",
        "print('x\\n', x[:10, :10])\n",
        "print('\\ny\\n', y[:10, :10])"
      ],
      "execution_count": 0,
      "outputs": [
        {
          "output_type": "stream",
          "text": [
            "x\n",
            " [[54 43 76 49  6 60 24 80 55 27]\n",
            " [ 2 74 41 80  6 43 76  6 80 76]\n",
            " [60 41 22 80 74 24 80 76 80 39]\n",
            " [ 2 80  6 43 60 80 46 43 66 60]\n",
            " [80  2 76 20 80 43 60 24 80  6]\n",
            " [46 12  2  2 66 74 41 80 76 41]\n",
            " [80 16 41 41 76 80 43 76 22 80]\n",
            " [69 11 61 74 41  2 52 70 21 80]]\n",
            "\n",
            "y\n",
            " [[43 76 49  6 60 24 80 55 27 27]\n",
            " [74 41 80  6 43 76  6 80 76  6]\n",
            " [41 22 80 74 24 80 76 80 39 74]\n",
            " [80  6 43 60 80 46 43 66 60 39]\n",
            " [ 2 76 20 80 43 60 24 80  6 60]\n",
            " [12  2  2 66 74 41 80 76 41 22]\n",
            " [16 41 41 76 80 43 76 22 80  2]\n",
            " [11 61 74 41  2 52 70 21 80 17]]\n"
          ],
          "name": "stdout"
        }
      ]
    },
    {
      "metadata": {
        "id": "M-B3QIaRbak3",
        "colab_type": "text"
      },
      "cell_type": "markdown",
      "source": [
        "If you implemented `get_batches` correctly, the above output should look something like \n",
        "```\n",
        "x\n",
        " [[25  8 60 11 45 27 28 73  1  2]\n",
        " [17  7 20 73 45  8 60 45 73 60]\n",
        " [27 20 80 73  7 28 73 60 73 65]\n",
        " [17 73 45  8 27 73 66  8 46 27]\n",
        " [73 17 60 12 73  8 27 28 73 45]\n",
        " [66 64 17 17 46  7 20 73 60 20]\n",
        " [73 76 20 20 60 73  8 60 80 73]\n",
        " [47 35 43  7 20 17 24 50 37 73]]\n",
        "\n",
        "y\n",
        " [[ 8 60 11 45 27 28 73  1  2  2]\n",
        " [ 7 20 73 45  8 60 45 73 60 45]\n",
        " [20 80 73  7 28 73 60 73 65  7]\n",
        " [73 45  8 27 73 66  8 46 27 65]\n",
        " [17 60 12 73  8 27 28 73 45 27]\n",
        " [64 17 17 46  7 20 73 60 20 80]\n",
        " [76 20 20 60 73  8 60 80 73 17]\n",
        " [35 43  7 20 17 24 50 37 73 36]]\n",
        " ```\n",
        " although the exact numbers may be different. Check to make sure the data is shifted over one step for `y`."
      ]
    },
    {
      "metadata": {
        "id": "iDMEpZambak4",
        "colab_type": "text"
      },
      "cell_type": "markdown",
      "source": [
        "---\n",
        "## Defining the network with PyTorch\n",
        "\n",
        "Below is where you'll define the network.\n",
        "\n",
        "<img src=\"https://github.com/udacity/deep-learning-v2-pytorch/blob/master/recurrent-neural-networks/char-rnn/assets/charRNN.png?raw=1\" width=500px>\n",
        "\n",
        "Next, you'll use PyTorch to define the architecture of the network. We start by defining the layers and operations we want. Then, define a method for the forward pass. You've also been given a method for predicting characters."
      ]
    },
    {
      "metadata": {
        "id": "QTHfZCK9bak5",
        "colab_type": "text"
      },
      "cell_type": "markdown",
      "source": [
        "### Model Structure\n",
        "\n",
        "In `__init__` the suggested structure is as follows:\n",
        "* Create and store the necessary dictionaries (this has been done for you)\n",
        "* Define an LSTM layer that takes as params: an input size (the number of characters), a hidden layer size `n_hidden`, a number of layers `n_layers`, a dropout probability `drop_prob`, and a batch_first boolean (True, since we are batching)\n",
        "* Define a dropout layer with `dropout_prob`\n",
        "* Define a fully-connected layer with params: input size `n_hidden` and output size (the number of characters)\n",
        "* Finally, initialize the weights (again, this has been given)\n",
        "\n",
        "Note that some parameters have been named and given in the `__init__` function, and we use them and store them by doing something like `self.drop_prob = drop_prob`."
      ]
    },
    {
      "metadata": {
        "id": "RLdDN2iVbak6",
        "colab_type": "text"
      },
      "cell_type": "markdown",
      "source": [
        "---\n",
        "### LSTM Inputs/Outputs\n",
        "\n",
        "You can create a basic [LSTM layer](https://pytorch.org/docs/stable/nn.html#lstm) as follows\n",
        "\n",
        "```python\n",
        "self.lstm = nn.LSTM(input_size, n_hidden, n_layers, \n",
        "                            dropout=drop_prob, batch_first=True)\n",
        "```\n",
        "\n",
        "where `input_size` is the number of characters this cell expects to see as sequential input, and `n_hidden` is the number of units in the hidden layers in the cell. And we can add dropout by adding a dropout parameter with a specified probability; this will automatically add dropout to the inputs or outputs. Finally, in the `forward` function, we can stack up the LSTM cells into layers using `.view`. With this, you pass in a list of cells and it will send the output of one cell into the next cell.\n",
        "\n",
        "We also need to create an initial hidden state of all zeros. This is done like so\n",
        "\n",
        "```python\n",
        "self.init_hidden()\n",
        "```"
      ]
    },
    {
      "metadata": {
        "id": "jWZgBaSAbak8",
        "colab_type": "code",
        "outputId": "ecc8c219-2465-4c60-d3fa-c9a1ee7a1c2a",
        "colab": {
          "base_uri": "https://localhost:8080/",
          "height": 34
        }
      },
      "cell_type": "code",
      "source": [
        "# check if GPU is available\n",
        "train_on_gpu = torch.cuda.is_available()\n",
        "if(train_on_gpu):\n",
        "    print('Training on GPU!')\n",
        "else: \n",
        "    print('No GPU available, training on CPU; consider making n_epochs very small.')"
      ],
      "execution_count": 0,
      "outputs": [
        {
          "output_type": "stream",
          "text": [
            "Training on GPU!\n"
          ],
          "name": "stdout"
        }
      ]
    },
    {
      "metadata": {
        "id": "eXGtEIV5balB",
        "colab_type": "code",
        "colab": {}
      },
      "cell_type": "code",
      "source": [
        "class CharRNN(nn.Module):\n",
        "    \n",
        "    def __init__(self, tokens, n_hidden=256, n_layers=2,\n",
        "                               drop_prob=0.5, lr=0.001):\n",
        "        super().__init__()\n",
        "        self.drop_prob = drop_prob\n",
        "        self.n_layers = n_layers\n",
        "        self.n_hidden = n_hidden\n",
        "        self.lr = lr\n",
        "        \n",
        "        # creating character dictionaries\n",
        "        self.chars = tokens\n",
        "        self.int2char = dict(enumerate(self.chars))\n",
        "        self.char2int = {ch: ii for ii, ch in self.int2char.items()}\n",
        "        ## TODO: define the layers of the model\n",
        "        self.num_chars = len(int2char)\n",
        "        self.lstm = nn.LSTM(self.num_chars, n_hidden, n_layers, \n",
        "                            dropout=drop_prob, batch_first=True)\n",
        "        self.dropout = nn.Dropout(drop_prob)\n",
        "        self.fc = nn.Linear(n_hidden,self.num_chars)\n",
        "        \n",
        "    def forward(self, x, hidden):\n",
        "        ''' Forward pass through the network. \n",
        "            These inputs are x, and the hidden/cell state `hidden`. '''\n",
        "                \n",
        "        ## TODO: Get the outputs and the new hidden state from the lstm\n",
        "        out,hidden = self.lstm(x,hidden)\n",
        "        out = self.dropout(out)\n",
        "        out = out.contiguous().view(-1, self.n_hidden)\n",
        "        \n",
        "        out = self.fc(out)\n",
        "        # return the final output and the hidden state\n",
        "        return out, hidden\n",
        "    \n",
        "    \n",
        "    def init_hidden(self, batch_size):\n",
        "        ''' Initializes hidden state '''\n",
        "        # Create two new tensors with sizes n_layers x batch_size x n_hidden,\n",
        "        # initialized to zero, for hidden state and cell state of LSTM\n",
        "        weight = next(self.parameters()).data\n",
        "        \n",
        "        if (train_on_gpu):\n",
        "            hidden = (weight.new(self.n_layers, batch_size, self.n_hidden).zero_().cuda(),\n",
        "                  weight.new(self.n_layers, batch_size, self.n_hidden).zero_().cuda())\n",
        "        else:\n",
        "            hidden = (weight.new(self.n_layers, batch_size, self.n_hidden).zero_(),\n",
        "                      weight.new(self.n_layers, batch_size, self.n_hidden).zero_())\n",
        "        \n",
        "        return hidden\n",
        "        "
      ],
      "execution_count": 0,
      "outputs": []
    },
    {
      "metadata": {
        "id": "9JBNYolvbalL",
        "colab_type": "text"
      },
      "cell_type": "markdown",
      "source": [
        "## Time to train\n",
        "\n",
        "The train function gives us the ability to set the number of epochs, the learning rate, and other parameters.\n",
        "\n",
        "Below we're using an Adam optimizer and cross entropy loss since we are looking at character class scores as output. We calculate the loss and perform backpropagation, as usual!\n",
        "\n",
        "A couple of details about training: \n",
        ">* Within the batch loop, we detach the hidden state from its history; this time setting it equal to a new *tuple* variable because an LSTM has a hidden state that is a tuple of the hidden and cell states.\n",
        "* We use [`clip_grad_norm_`](https://pytorch.org/docs/stable/_modules/torch/nn/utils/clip_grad.html) to help prevent exploding gradients."
      ]
    },
    {
      "metadata": {
        "id": "KYVF_BXybalN",
        "colab_type": "code",
        "colab": {}
      },
      "cell_type": "code",
      "source": [
        "def train(net, data, epochs=10, batch_size=10, seq_length=50, lr=0.001, clip=5, val_frac=0.1, print_every=10):\n",
        "    ''' Training a network \n",
        "    \n",
        "        Arguments\n",
        "        ---------\n",
        "        \n",
        "        net: CharRNN network\n",
        "        data: text data to train the network\n",
        "        epochs: Number of epochs to train\n",
        "        batch_size: Number of mini-sequences per mini-batch, aka batch size\n",
        "        seq_length: Number of character steps per mini-batch\n",
        "        lr: learning rate\n",
        "        clip: gradient clipping\n",
        "        val_frac: Fraction of data to hold out for validation\n",
        "        print_every: Number of steps for printing training and validation loss\n",
        "    \n",
        "    '''\n",
        "    net.train()\n",
        "    \n",
        "    opt = torch.optim.Adam(net.parameters(), lr=lr)\n",
        "    criterion = nn.CrossEntropyLoss()\n",
        "    \n",
        "    # create training and validation data\n",
        "    val_idx = int(len(data)*(1-val_frac))\n",
        "    data, val_data = data[:val_idx], data[val_idx:]\n",
        "    \n",
        "    if(train_on_gpu):\n",
        "        net.cuda()\n",
        "    \n",
        "    counter = 0\n",
        "    n_chars = len(net.chars)\n",
        "    for e in range(epochs):\n",
        "        # initialize hidden state\n",
        "        h = net.init_hidden(batch_size)\n",
        "        \n",
        "        for x, y in get_batches(data, batch_size, seq_length):\n",
        "            counter += 1\n",
        "            \n",
        "            # One-hot encode our data and make them Torch tensors\n",
        "            x = one_hot_encode(x, n_chars)\n",
        "            inputs, targets = torch.from_numpy(x), torch.from_numpy(y)\n",
        "            \n",
        "            if(train_on_gpu):\n",
        "                inputs, targets = inputs.cuda(), targets.cuda()\n",
        "\n",
        "            # Creating new variables for the hidden state, otherwise\n",
        "            # we'd backprop through the entire training history\n",
        "            h = tuple([each.data for each in h])\n",
        "\n",
        "            # zero accumulated gradients\n",
        "            net.zero_grad()\n",
        "            \n",
        "            # get the output from the model\n",
        "            output, h = net(inputs, h)\n",
        "            \n",
        "            # calculate the loss and perform backprop\n",
        "            loss = criterion(output, targets.view(batch_size*seq_length))\n",
        "            loss.backward()\n",
        "            # `clip_grad_norm` helps prevent the exploding gradient problem in RNNs / LSTMs.\n",
        "            nn.utils.clip_grad_norm_(net.parameters(), clip)\n",
        "            opt.step()\n",
        "            \n",
        "            # loss stats\n",
        "            if counter % print_every == 0:\n",
        "                # Get validation loss\n",
        "                val_h = net.init_hidden(batch_size)\n",
        "                val_losses = []\n",
        "                net.eval()\n",
        "                for x, y in get_batches(val_data, batch_size, seq_length):\n",
        "                    # One-hot encode our data and make them Torch tensors\n",
        "                    x = one_hot_encode(x, n_chars)\n",
        "                    x, y = torch.from_numpy(x), torch.from_numpy(y)\n",
        "                    \n",
        "                    # Creating new variables for the hidden state, otherwise\n",
        "                    # we'd backprop through the entire training history\n",
        "                    val_h = tuple([each.data for each in val_h])\n",
        "                    \n",
        "                    inputs, targets = x, y\n",
        "                    if(train_on_gpu):\n",
        "                        inputs, targets = inputs.cuda(), targets.cuda()\n",
        "\n",
        "                    output, val_h = net(inputs, val_h)\n",
        "                    val_loss = criterion(output, targets.view(batch_size*seq_length))\n",
        "                \n",
        "                    val_losses.append(val_loss.item())\n",
        "                \n",
        "                net.train() # reset to train mode after iterationg through validation data\n",
        "                \n",
        "                print(\"Epoch: {}/{}...\".format(e+1, epochs),\n",
        "                      \"Step: {}...\".format(counter),\n",
        "                      \"Loss: {:.4f}...\".format(loss.item()),\n",
        "                      \"Val Loss: {:.4f}\".format(np.mean(val_losses)))"
      ],
      "execution_count": 0,
      "outputs": []
    },
    {
      "metadata": {
        "id": "e22qVsVPbalQ",
        "colab_type": "text"
      },
      "cell_type": "markdown",
      "source": [
        "## Instantiating the model\n",
        "\n",
        "Now we can actually train the network. First we'll create the network itself, with some given hyperparameters. Then, define the mini-batches sizes, and start training!"
      ]
    },
    {
      "metadata": {
        "id": "4bPylwypbalR",
        "colab_type": "code",
        "outputId": "98ccc213-217b-47aa-f563-b89e3a046307",
        "colab": {
          "base_uri": "https://localhost:8080/",
          "height": 101
        }
      },
      "cell_type": "code",
      "source": [
        "## TODO: set you model hyperparameters\n",
        "# define and print the net\n",
        "n_hidden= 512\n",
        "n_layers= 2\n",
        "\n",
        "net = CharRNN(chars, n_hidden, n_layers)\n",
        "print(net)"
      ],
      "execution_count": 0,
      "outputs": [
        {
          "output_type": "stream",
          "text": [
            "CharRNN(\n",
            "  (lstm): LSTM(83, 512, num_layers=2, batch_first=True, dropout=0.5)\n",
            "  (dropout): Dropout(p=0.5)\n",
            "  (fc): Linear(in_features=512, out_features=83, bias=True)\n",
            ")\n"
          ],
          "name": "stdout"
        }
      ]
    },
    {
      "metadata": {
        "id": "T6ThltKcbalV",
        "colab_type": "text"
      },
      "cell_type": "markdown",
      "source": [
        "### Set your training hyperparameters!"
      ]
    },
    {
      "metadata": {
        "scrolled": true,
        "id": "DzxBiQW5balW",
        "colab_type": "code",
        "outputId": "c7d1ea4a-a8e8-4f5d-d034-9e472296892c",
        "colab": {
          "base_uri": "https://localhost:8080/",
          "height": 4687
        }
      },
      "cell_type": "code",
      "source": [
        "batch_size = 128\n",
        "seq_length = 100\n",
        "n_epochs =  20# start small if you are just testing initial behavior\n",
        "\n",
        "# train the model\n",
        "train(net, encoded, epochs=n_epochs, batch_size=batch_size, seq_length=seq_length, lr=0.001, print_every=10)"
      ],
      "execution_count": 0,
      "outputs": [
        {
          "output_type": "stream",
          "text": [
            "Epoch: 1/20... Step: 10... Loss: 3.2900... Val Loss: 3.2311\n",
            "Epoch: 1/20... Step: 20... Loss: 3.1547... Val Loss: 3.1391\n",
            "Epoch: 1/20... Step: 30... Loss: 3.1494... Val Loss: 3.1263\n",
            "Epoch: 1/20... Step: 40... Loss: 3.1152... Val Loss: 3.1193\n",
            "Epoch: 1/20... Step: 50... Loss: 3.1426... Val Loss: 3.1181\n",
            "Epoch: 1/20... Step: 60... Loss: 3.1192... Val Loss: 3.1158\n",
            "Epoch: 1/20... Step: 70... Loss: 3.1055... Val Loss: 3.1146\n",
            "Epoch: 1/20... Step: 80... Loss: 3.1254... Val Loss: 3.1114\n",
            "Epoch: 1/20... Step: 90... Loss: 3.1163... Val Loss: 3.1027\n",
            "Epoch: 1/20... Step: 100... Loss: 3.0880... Val Loss: 3.0823\n",
            "Epoch: 1/20... Step: 110... Loss: 3.0540... Val Loss: 3.0342\n",
            "Epoch: 1/20... Step: 120... Loss: 2.9479... Val Loss: 2.9277\n",
            "Epoch: 1/20... Step: 130... Loss: 2.9463... Val Loss: 2.8981\n",
            "Epoch: 2/20... Step: 140... Loss: 2.8017... Val Loss: 2.7508\n",
            "Epoch: 2/20... Step: 150... Loss: 2.7316... Val Loss: 2.6822\n",
            "Epoch: 2/20... Step: 160... Loss: 2.6297... Val Loss: 2.5905\n",
            "Epoch: 2/20... Step: 170... Loss: 2.5499... Val Loss: 2.5450\n",
            "Epoch: 2/20... Step: 180... Loss: 2.5247... Val Loss: 2.5030\n",
            "Epoch: 2/20... Step: 190... Loss: 2.4789... Val Loss: 2.4716\n",
            "Epoch: 2/20... Step: 200... Loss: 2.4647... Val Loss: 2.4345\n",
            "Epoch: 2/20... Step: 210... Loss: 2.4314... Val Loss: 2.4055\n",
            "Epoch: 2/20... Step: 220... Loss: 2.4025... Val Loss: 2.3774\n",
            "Epoch: 2/20... Step: 230... Loss: 2.3997... Val Loss: 2.3823\n",
            "Epoch: 2/20... Step: 240... Loss: 2.3734... Val Loss: 2.3361\n",
            "Epoch: 2/20... Step: 250... Loss: 2.3152... Val Loss: 2.3131\n",
            "Epoch: 2/20... Step: 260... Loss: 2.2897... Val Loss: 2.2886\n",
            "Epoch: 2/20... Step: 270... Loss: 2.2904... Val Loss: 2.2615\n",
            "Epoch: 3/20... Step: 280... Loss: 2.2845... Val Loss: 2.2401\n",
            "Epoch: 3/20... Step: 290... Loss: 2.2516... Val Loss: 2.2181\n",
            "Epoch: 3/20... Step: 300... Loss: 2.2289... Val Loss: 2.1945\n",
            "Epoch: 3/20... Step: 310... Loss: 2.2051... Val Loss: 2.1790\n",
            "Epoch: 3/20... Step: 320... Loss: 2.1725... Val Loss: 2.1573\n",
            "Epoch: 3/20... Step: 330... Loss: 2.1506... Val Loss: 2.1436\n",
            "Epoch: 3/20... Step: 340... Loss: 2.1609... Val Loss: 2.1235\n",
            "Epoch: 3/20... Step: 350... Loss: 2.1447... Val Loss: 2.1017\n",
            "Epoch: 3/20... Step: 360... Loss: 2.0811... Val Loss: 2.0806\n",
            "Epoch: 3/20... Step: 370... Loss: 2.1033... Val Loss: 2.0675\n",
            "Epoch: 3/20... Step: 380... Loss: 2.0713... Val Loss: 2.0468\n",
            "Epoch: 3/20... Step: 390... Loss: 2.0513... Val Loss: 2.0317\n",
            "Epoch: 3/20... Step: 400... Loss: 2.0196... Val Loss: 2.0137\n",
            "Epoch: 3/20... Step: 410... Loss: 2.0298... Val Loss: 2.0009\n",
            "Epoch: 4/20... Step: 420... Loss: 2.0165... Val Loss: 1.9816\n",
            "Epoch: 4/20... Step: 430... Loss: 2.0053... Val Loss: 1.9678\n",
            "Epoch: 4/20... Step: 440... Loss: 1.9916... Val Loss: 1.9566\n",
            "Epoch: 4/20... Step: 450... Loss: 1.9223... Val Loss: 1.9399\n",
            "Epoch: 4/20... Step: 460... Loss: 1.9194... Val Loss: 1.9264\n",
            "Epoch: 4/20... Step: 470... Loss: 1.9459... Val Loss: 1.9197\n",
            "Epoch: 4/20... Step: 480... Loss: 1.9217... Val Loss: 1.9033\n",
            "Epoch: 4/20... Step: 490... Loss: 1.9322... Val Loss: 1.8933\n",
            "Epoch: 4/20... Step: 500... Loss: 1.9174... Val Loss: 1.8766\n",
            "Epoch: 4/20... Step: 510... Loss: 1.8980... Val Loss: 1.8660\n",
            "Epoch: 4/20... Step: 520... Loss: 1.9077... Val Loss: 1.8586\n",
            "Epoch: 4/20... Step: 530... Loss: 1.8653... Val Loss: 1.8467\n",
            "Epoch: 4/20... Step: 540... Loss: 1.8218... Val Loss: 1.8366\n",
            "Epoch: 4/20... Step: 550... Loss: 1.8704... Val Loss: 1.8222\n",
            "Epoch: 5/20... Step: 560... Loss: 1.8407... Val Loss: 1.8111\n",
            "Epoch: 5/20... Step: 570... Loss: 1.8240... Val Loss: 1.7965\n",
            "Epoch: 5/20... Step: 580... Loss: 1.8013... Val Loss: 1.7898\n",
            "Epoch: 5/20... Step: 590... Loss: 1.7958... Val Loss: 1.7832\n",
            "Epoch: 5/20... Step: 600... Loss: 1.7854... Val Loss: 1.7681\n",
            "Epoch: 5/20... Step: 610... Loss: 1.7750... Val Loss: 1.7654\n",
            "Epoch: 5/20... Step: 620... Loss: 1.7775... Val Loss: 1.7531\n",
            "Epoch: 5/20... Step: 630... Loss: 1.7888... Val Loss: 1.7445\n",
            "Epoch: 5/20... Step: 640... Loss: 1.7714... Val Loss: 1.7351\n",
            "Epoch: 5/20... Step: 650... Loss: 1.7414... Val Loss: 1.7288\n",
            "Epoch: 5/20... Step: 660... Loss: 1.7222... Val Loss: 1.7227\n",
            "Epoch: 5/20... Step: 670... Loss: 1.7398... Val Loss: 1.7159\n",
            "Epoch: 5/20... Step: 680... Loss: 1.7453... Val Loss: 1.7089\n",
            "Epoch: 5/20... Step: 690... Loss: 1.7131... Val Loss: 1.7005\n",
            "Epoch: 6/20... Step: 700... Loss: 1.7081... Val Loss: 1.6888\n",
            "Epoch: 6/20... Step: 710... Loss: 1.7013... Val Loss: 1.6818\n",
            "Epoch: 6/20... Step: 720... Loss: 1.6898... Val Loss: 1.6746\n",
            "Epoch: 6/20... Step: 730... Loss: 1.7018... Val Loss: 1.6688\n",
            "Epoch: 6/20... Step: 740... Loss: 1.6609... Val Loss: 1.6614\n",
            "Epoch: 6/20... Step: 750... Loss: 1.6417... Val Loss: 1.6560\n",
            "Epoch: 6/20... Step: 760... Loss: 1.6794... Val Loss: 1.6483\n",
            "Epoch: 6/20... Step: 770... Loss: 1.6601... Val Loss: 1.6433\n",
            "Epoch: 6/20... Step: 780... Loss: 1.6447... Val Loss: 1.6355\n",
            "Epoch: 6/20... Step: 790... Loss: 1.6328... Val Loss: 1.6293\n",
            "Epoch: 6/20... Step: 800... Loss: 1.6451... Val Loss: 1.6256\n",
            "Epoch: 6/20... Step: 810... Loss: 1.6333... Val Loss: 1.6207\n",
            "Epoch: 6/20... Step: 820... Loss: 1.6015... Val Loss: 1.6178\n",
            "Epoch: 6/20... Step: 830... Loss: 1.6424... Val Loss: 1.6096\n",
            "Epoch: 7/20... Step: 840... Loss: 1.5921... Val Loss: 1.6030\n",
            "Epoch: 7/20... Step: 850... Loss: 1.6041... Val Loss: 1.6016\n",
            "Epoch: 7/20... Step: 860... Loss: 1.6003... Val Loss: 1.5928\n",
            "Epoch: 7/20... Step: 870... Loss: 1.6027... Val Loss: 1.5888\n",
            "Epoch: 7/20... Step: 880... Loss: 1.6032... Val Loss: 1.5851\n",
            "Epoch: 7/20... Step: 890... Loss: 1.5970... Val Loss: 1.5817\n",
            "Epoch: 7/20... Step: 900... Loss: 1.5769... Val Loss: 1.5770\n",
            "Epoch: 7/20... Step: 910... Loss: 1.5501... Val Loss: 1.5709\n",
            "Epoch: 7/20... Step: 920... Loss: 1.5762... Val Loss: 1.5648\n",
            "Epoch: 7/20... Step: 930... Loss: 1.5642... Val Loss: 1.5631\n",
            "Epoch: 7/20... Step: 940... Loss: 1.5624... Val Loss: 1.5598\n",
            "Epoch: 7/20... Step: 950... Loss: 1.5817... Val Loss: 1.5531\n",
            "Epoch: 7/20... Step: 960... Loss: 1.5679... Val Loss: 1.5511\n",
            "Epoch: 7/20... Step: 970... Loss: 1.5810... Val Loss: 1.5473\n",
            "Epoch: 8/20... Step: 980... Loss: 1.5466... Val Loss: 1.5427\n",
            "Epoch: 8/20... Step: 990... Loss: 1.5426... Val Loss: 1.5380\n",
            "Epoch: 8/20... Step: 1000... Loss: 1.5378... Val Loss: 1.5322\n",
            "Epoch: 8/20... Step: 1010... Loss: 1.5769... Val Loss: 1.5297\n",
            "Epoch: 8/20... Step: 1020... Loss: 1.5494... Val Loss: 1.5274\n",
            "Epoch: 8/20... Step: 1030... Loss: 1.5396... Val Loss: 1.5228\n",
            "Epoch: 8/20... Step: 1040... Loss: 1.5409... Val Loss: 1.5170\n",
            "Epoch: 8/20... Step: 1050... Loss: 1.5099... Val Loss: 1.5148\n",
            "Epoch: 8/20... Step: 1060... Loss: 1.5239... Val Loss: 1.5129\n",
            "Epoch: 8/20... Step: 1070... Loss: 1.5215... Val Loss: 1.5113\n",
            "Epoch: 8/20... Step: 1080... Loss: 1.5153... Val Loss: 1.5093\n",
            "Epoch: 8/20... Step: 1090... Loss: 1.5052... Val Loss: 1.5037\n",
            "Epoch: 8/20... Step: 1100... Loss: 1.4926... Val Loss: 1.4987\n",
            "Epoch: 8/20... Step: 1110... Loss: 1.5023... Val Loss: 1.4959\n",
            "Epoch: 9/20... Step: 1120... Loss: 1.5182... Val Loss: 1.4945\n",
            "Epoch: 9/20... Step: 1130... Loss: 1.5046... Val Loss: 1.4943\n",
            "Epoch: 9/20... Step: 1140... Loss: 1.5071... Val Loss: 1.4864\n",
            "Epoch: 9/20... Step: 1150... Loss: 1.5182... Val Loss: 1.4851\n",
            "Epoch: 9/20... Step: 1160... Loss: 1.4740... Val Loss: 1.4821\n",
            "Epoch: 9/20... Step: 1170... Loss: 1.4796... Val Loss: 1.4808\n",
            "Epoch: 9/20... Step: 1180... Loss: 1.4851... Val Loss: 1.4798\n",
            "Epoch: 9/20... Step: 1190... Loss: 1.5090... Val Loss: 1.4754\n",
            "Epoch: 9/20... Step: 1200... Loss: 1.4540... Val Loss: 1.4740\n",
            "Epoch: 9/20... Step: 1210... Loss: 1.4640... Val Loss: 1.4684\n",
            "Epoch: 9/20... Step: 1220... Loss: 1.4614... Val Loss: 1.4706\n",
            "Epoch: 9/20... Step: 1230... Loss: 1.4431... Val Loss: 1.4655\n",
            "Epoch: 9/20... Step: 1240... Loss: 1.4486... Val Loss: 1.4601\n",
            "Epoch: 9/20... Step: 1250... Loss: 1.4665... Val Loss: 1.4586\n",
            "Epoch: 10/20... Step: 1260... Loss: 1.4682... Val Loss: 1.4585\n",
            "Epoch: 10/20... Step: 1270... Loss: 1.4497... Val Loss: 1.4545\n",
            "Epoch: 10/20... Step: 1280... Loss: 1.4801... Val Loss: 1.4490\n",
            "Epoch: 10/20... Step: 1290... Loss: 1.4574... Val Loss: 1.4489\n",
            "Epoch: 10/20... Step: 1300... Loss: 1.4427... Val Loss: 1.4488\n",
            "Epoch: 10/20... Step: 1310... Loss: 1.4539... Val Loss: 1.4452\n",
            "Epoch: 10/20... Step: 1320... Loss: 1.4289... Val Loss: 1.4459\n",
            "Epoch: 10/20... Step: 1330... Loss: 1.4334... Val Loss: 1.4430\n",
            "Epoch: 10/20... Step: 1340... Loss: 1.4123... Val Loss: 1.4404\n",
            "Epoch: 10/20... Step: 1350... Loss: 1.4149... Val Loss: 1.4363\n",
            "Epoch: 10/20... Step: 1360... Loss: 1.4182... Val Loss: 1.4355\n",
            "Epoch: 10/20... Step: 1370... Loss: 1.4063... Val Loss: 1.4336\n",
            "Epoch: 10/20... Step: 1380... Loss: 1.4388... Val Loss: 1.4310\n",
            "Epoch: 10/20... Step: 1390... Loss: 1.4561... Val Loss: 1.4293\n",
            "Epoch: 11/20... Step: 1400... Loss: 1.4410... Val Loss: 1.4273\n",
            "Epoch: 11/20... Step: 1410... Loss: 1.4542... Val Loss: 1.4240\n",
            "Epoch: 11/20... Step: 1420... Loss: 1.4494... Val Loss: 1.4217\n",
            "Epoch: 11/20... Step: 1430... Loss: 1.4099... Val Loss: 1.4210\n",
            "Epoch: 11/20... Step: 1440... Loss: 1.4459... Val Loss: 1.4201\n",
            "Epoch: 11/20... Step: 1450... Loss: 1.3723... Val Loss: 1.4156\n",
            "Epoch: 11/20... Step: 1460... Loss: 1.3990... Val Loss: 1.4177\n",
            "Epoch: 11/20... Step: 1470... Loss: 1.3910... Val Loss: 1.4177\n",
            "Epoch: 11/20... Step: 1480... Loss: 1.4089... Val Loss: 1.4097\n",
            "Epoch: 11/20... Step: 1490... Loss: 1.3916... Val Loss: 1.4090\n",
            "Epoch: 11/20... Step: 1500... Loss: 1.3911... Val Loss: 1.4092\n",
            "Epoch: 11/20... Step: 1510... Loss: 1.3654... Val Loss: 1.4090\n",
            "Epoch: 11/20... Step: 1520... Loss: 1.4019... Val Loss: 1.4043\n",
            "Epoch: 12/20... Step: 1530... Loss: 1.4536... Val Loss: 1.4040\n",
            "Epoch: 12/20... Step: 1540... Loss: 1.4088... Val Loss: 1.4024\n",
            "Epoch: 12/20... Step: 1550... Loss: 1.4126... Val Loss: 1.3998\n",
            "Epoch: 12/20... Step: 1560... Loss: 1.4292... Val Loss: 1.3977\n",
            "Epoch: 12/20... Step: 1570... Loss: 1.3705... Val Loss: 1.3966\n",
            "Epoch: 12/20... Step: 1580... Loss: 1.3463... Val Loss: 1.3985\n",
            "Epoch: 12/20... Step: 1590... Loss: 1.3463... Val Loss: 1.3955\n",
            "Epoch: 12/20... Step: 1600... Loss: 1.3663... Val Loss: 1.3948\n",
            "Epoch: 12/20... Step: 1610... Loss: 1.3613... Val Loss: 1.3970\n",
            "Epoch: 12/20... Step: 1620... Loss: 1.3678... Val Loss: 1.3886\n",
            "Epoch: 12/20... Step: 1630... Loss: 1.3820... Val Loss: 1.3881\n",
            "Epoch: 12/20... Step: 1640... Loss: 1.3645... Val Loss: 1.3932\n",
            "Epoch: 12/20... Step: 1650... Loss: 1.3430... Val Loss: 1.3869\n",
            "Epoch: 12/20... Step: 1660... Loss: 1.3954... Val Loss: 1.3823\n",
            "Epoch: 13/20... Step: 1670... Loss: 1.3620... Val Loss: 1.3857\n",
            "Epoch: 13/20... Step: 1680... Loss: 1.3761... Val Loss: 1.3795\n",
            "Epoch: 13/20... Step: 1690... Loss: 1.3518... Val Loss: 1.3800\n",
            "Epoch: 13/20... Step: 1700... Loss: 1.3552... Val Loss: 1.3811\n",
            "Epoch: 13/20... Step: 1710... Loss: 1.3353... Val Loss: 1.3823\n",
            "Epoch: 13/20... Step: 1720... Loss: 1.3398... Val Loss: 1.3780\n",
            "Epoch: 13/20... Step: 1730... Loss: 1.3758... Val Loss: 1.3748\n",
            "Epoch: 13/20... Step: 1740... Loss: 1.3442... Val Loss: 1.3800\n",
            "Epoch: 13/20... Step: 1750... Loss: 1.3167... Val Loss: 1.3774\n",
            "Epoch: 13/20... Step: 1760... Loss: 1.3476... Val Loss: 1.3719\n",
            "Epoch: 13/20... Step: 1770... Loss: 1.3681... Val Loss: 1.3687\n",
            "Epoch: 13/20... Step: 1780... Loss: 1.3382... Val Loss: 1.3725\n",
            "Epoch: 13/20... Step: 1790... Loss: 1.3223... Val Loss: 1.3685\n",
            "Epoch: 13/20... Step: 1800... Loss: 1.3484... Val Loss: 1.3641\n",
            "Epoch: 14/20... Step: 1810... Loss: 1.3508... Val Loss: 1.3670\n",
            "Epoch: 14/20... Step: 1820... Loss: 1.3423... Val Loss: 1.3657\n",
            "Epoch: 14/20... Step: 1830... Loss: 1.3581... Val Loss: 1.3645\n",
            "Epoch: 14/20... Step: 1840... Loss: 1.3133... Val Loss: 1.3649\n",
            "Epoch: 14/20... Step: 1850... Loss: 1.2940... Val Loss: 1.3665\n",
            "Epoch: 14/20... Step: 1860... Loss: 1.3446... Val Loss: 1.3621\n",
            "Epoch: 14/20... Step: 1870... Loss: 1.3472... Val Loss: 1.3580\n",
            "Epoch: 14/20... Step: 1880... Loss: 1.3397... Val Loss: 1.3617\n",
            "Epoch: 14/20... Step: 1890... Loss: 1.3598... Val Loss: 1.3643\n",
            "Epoch: 14/20... Step: 1900... Loss: 1.3362... Val Loss: 1.3579\n",
            "Epoch: 14/20... Step: 1910... Loss: 1.3353... Val Loss: 1.3564\n",
            "Epoch: 14/20... Step: 1920... Loss: 1.3302... Val Loss: 1.3567\n",
            "Epoch: 14/20... Step: 1930... Loss: 1.3037... Val Loss: 1.3517\n",
            "Epoch: 14/20... Step: 1940... Loss: 1.3471... Val Loss: 1.3518\n",
            "Epoch: 15/20... Step: 1950... Loss: 1.3234... Val Loss: 1.3562\n",
            "Epoch: 15/20... Step: 1960... Loss: 1.3220... Val Loss: 1.3502\n",
            "Epoch: 15/20... Step: 1970... Loss: 1.3138... Val Loss: 1.3527\n",
            "Epoch: 15/20... Step: 1980... Loss: 1.2976... Val Loss: 1.3494\n",
            "Epoch: 15/20... Step: 1990... Loss: 1.3014... Val Loss: 1.3493\n",
            "Epoch: 15/20... Step: 2000... Loss: 1.2943... Val Loss: 1.3453\n",
            "Epoch: 15/20... Step: 2010... Loss: 1.3142... Val Loss: 1.3447\n",
            "Epoch: 15/20... Step: 2020... Loss: 1.3324... Val Loss: 1.3473\n",
            "Epoch: 15/20... Step: 2030... Loss: 1.2970... Val Loss: 1.3497\n",
            "Epoch: 15/20... Step: 2040... Loss: 1.3181... Val Loss: 1.3472\n",
            "Epoch: 15/20... Step: 2050... Loss: 1.3021... Val Loss: 1.3459\n",
            "Epoch: 15/20... Step: 2060... Loss: 1.3039... Val Loss: 1.3457\n",
            "Epoch: 15/20... Step: 2070... Loss: 1.3227... Val Loss: 1.3469\n",
            "Epoch: 15/20... Step: 2080... Loss: 1.3138... Val Loss: 1.3428\n",
            "Epoch: 16/20... Step: 2090... Loss: 1.3040... Val Loss: 1.3465\n",
            "Epoch: 16/20... Step: 2100... Loss: 1.3036... Val Loss: 1.3381\n",
            "Epoch: 16/20... Step: 2110... Loss: 1.2952... Val Loss: 1.3402\n",
            "Epoch: 16/20... Step: 2120... Loss: 1.2970... Val Loss: 1.3390\n",
            "Epoch: 16/20... Step: 2130... Loss: 1.2830... Val Loss: 1.3397\n",
            "Epoch: 16/20... Step: 2140... Loss: 1.2970... Val Loss: 1.3348\n",
            "Epoch: 16/20... Step: 2150... Loss: 1.3109... Val Loss: 1.3383\n",
            "Epoch: 16/20... Step: 2160... Loss: 1.2905... Val Loss: 1.3379\n",
            "Epoch: 16/20... Step: 2170... Loss: 1.2972... Val Loss: 1.3378\n",
            "Epoch: 16/20... Step: 2180... Loss: 1.2764... Val Loss: 1.3328\n",
            "Epoch: 16/20... Step: 2190... Loss: 1.3096... Val Loss: 1.3325\n",
            "Epoch: 16/20... Step: 2200... Loss: 1.2777... Val Loss: 1.3337\n",
            "Epoch: 16/20... Step: 2210... Loss: 1.2476... Val Loss: 1.3330\n",
            "Epoch: 16/20... Step: 2220... Loss: 1.2999... Val Loss: 1.3319\n",
            "Epoch: 17/20... Step: 2230... Loss: 1.2701... Val Loss: 1.3323\n",
            "Epoch: 17/20... Step: 2240... Loss: 1.2749... Val Loss: 1.3281\n",
            "Epoch: 17/20... Step: 2250... Loss: 1.2639... Val Loss: 1.3301\n",
            "Epoch: 17/20... Step: 2260... Loss: 1.2748... Val Loss: 1.3327\n",
            "Epoch: 17/20... Step: 2270... Loss: 1.2822... Val Loss: 1.3303\n",
            "Epoch: 17/20... Step: 2280... Loss: 1.2876... Val Loss: 1.3202\n",
            "Epoch: 17/20... Step: 2290... Loss: 1.2858... Val Loss: 1.3257\n",
            "Epoch: 17/20... Step: 2300... Loss: 1.2547... Val Loss: 1.3247\n",
            "Epoch: 17/20... Step: 2310... Loss: 1.2763... Val Loss: 1.3220\n",
            "Epoch: 17/20... Step: 2320... Loss: 1.2676... Val Loss: 1.3211\n",
            "Epoch: 17/20... Step: 2330... Loss: 1.2711... Val Loss: 1.3222\n",
            "Epoch: 17/20... Step: 2340... Loss: 1.2778... Val Loss: 1.3212\n",
            "Epoch: 17/20... Step: 2350... Loss: 1.2768... Val Loss: 1.3192\n",
            "Epoch: 17/20... Step: 2360... Loss: 1.2904... Val Loss: 1.3176\n",
            "Epoch: 18/20... Step: 2370... Loss: 1.2591... Val Loss: 1.3239\n",
            "Epoch: 18/20... Step: 2380... Loss: 1.2734... Val Loss: 1.3186\n",
            "Epoch: 18/20... Step: 2390... Loss: 1.2668... Val Loss: 1.3180\n",
            "Epoch: 18/20... Step: 2400... Loss: 1.3049... Val Loss: 1.3219\n",
            "Epoch: 18/20... Step: 2410... Loss: 1.2876... Val Loss: 1.3206\n",
            "Epoch: 18/20... Step: 2420... Loss: 1.2603... Val Loss: 1.3158\n",
            "Epoch: 18/20... Step: 2430... Loss: 1.2846... Val Loss: 1.3192\n",
            "Epoch: 18/20... Step: 2440... Loss: 1.2652... Val Loss: 1.3196\n",
            "Epoch: 18/20... Step: 2450... Loss: 1.2559... Val Loss: 1.3172\n",
            "Epoch: 18/20... Step: 2460... Loss: 1.2690... Val Loss: 1.3116\n",
            "Epoch: 18/20... Step: 2470... Loss: 1.2690... Val Loss: 1.3142\n",
            "Epoch: 18/20... Step: 2480... Loss: 1.2604... Val Loss: 1.3172\n",
            "Epoch: 18/20... Step: 2490... Loss: 1.2442... Val Loss: 1.3114\n",
            "Epoch: 18/20... Step: 2500... Loss: 1.2623... Val Loss: 1.3095\n",
            "Epoch: 19/20... Step: 2510... Loss: 1.2650... Val Loss: 1.3152\n",
            "Epoch: 19/20... Step: 2520... Loss: 1.2700... Val Loss: 1.3082\n",
            "Epoch: 19/20... Step: 2530... Loss: 1.2789... Val Loss: 1.3080\n",
            "Epoch: 19/20... Step: 2540... Loss: 1.2861... Val Loss: 1.3115\n",
            "Epoch: 19/20... Step: 2550... Loss: 1.2456... Val Loss: 1.3135\n",
            "Epoch: 19/20... Step: 2560... Loss: 1.2563... Val Loss: 1.3046\n",
            "Epoch: 19/20... Step: 2570... Loss: 1.2494... Val Loss: 1.3080\n",
            "Epoch: 19/20... Step: 2580... Loss: 1.2785... Val Loss: 1.3110\n",
            "Epoch: 19/20... Step: 2590... Loss: 1.2439... Val Loss: 1.3067\n",
            "Epoch: 19/20... Step: 2600... Loss: 1.2392... Val Loss: 1.3072\n",
            "Epoch: 19/20... Step: 2610... Loss: 1.2509... Val Loss: 1.3059\n",
            "Epoch: 19/20... Step: 2620... Loss: 1.2295... Val Loss: 1.3108\n",
            "Epoch: 19/20... Step: 2630... Loss: 1.2379... Val Loss: 1.3022\n",
            "Epoch: 19/20... Step: 2640... Loss: 1.2596... Val Loss: 1.3047\n",
            "Epoch: 20/20... Step: 2650... Loss: 1.2509... Val Loss: 1.3087\n",
            "Epoch: 20/20... Step: 2660... Loss: 1.2576... Val Loss: 1.3042\n",
            "Epoch: 20/20... Step: 2670... Loss: 1.2650... Val Loss: 1.3011\n",
            "Epoch: 20/20... Step: 2680... Loss: 1.2585... Val Loss: 1.3054\n",
            "Epoch: 20/20... Step: 2690... Loss: 1.2460... Val Loss: 1.3062\n",
            "Epoch: 20/20... Step: 2700... Loss: 1.2463... Val Loss: 1.3020\n",
            "Epoch: 20/20... Step: 2710... Loss: 1.2230... Val Loss: 1.3031\n",
            "Epoch: 20/20... Step: 2720... Loss: 1.2369... Val Loss: 1.3067\n",
            "Epoch: 20/20... Step: 2730... Loss: 1.2238... Val Loss: 1.3029\n",
            "Epoch: 20/20... Step: 2740... Loss: 1.2265... Val Loss: 1.3005\n",
            "Epoch: 20/20... Step: 2750... Loss: 1.2360... Val Loss: 1.3050\n",
            "Epoch: 20/20... Step: 2760... Loss: 1.2167... Val Loss: 1.3004\n",
            "Epoch: 20/20... Step: 2770... Loss: 1.2587... Val Loss: 1.2985\n",
            "Epoch: 20/20... Step: 2780... Loss: 1.2849... Val Loss: 1.2983\n"
          ],
          "name": "stdout"
        }
      ]
    },
    {
      "metadata": {
        "id": "3iL7SNnDbala",
        "colab_type": "text"
      },
      "cell_type": "markdown",
      "source": [
        "## Getting the best model\n",
        "\n",
        "To set your hyperparameters to get the best performance, you'll want to watch the training and validation losses. If your training loss is much lower than the validation loss, you're overfitting. Increase regularization (more dropout) or use a smaller network. If the training and validation losses are close, you're underfitting so you can increase the size of the network."
      ]
    },
    {
      "metadata": {
        "id": "QQQ4WyNZbalb",
        "colab_type": "text"
      },
      "cell_type": "markdown",
      "source": [
        "## Hyperparameters\n",
        "\n",
        "Here are the hyperparameters for the network.\n",
        "\n",
        "In defining the model:\n",
        "* `n_hidden` - The number of units in the hidden layers.\n",
        "* `n_layers` - Number of hidden LSTM layers to use.\n",
        "\n",
        "We assume that dropout probability and learning rate will be kept at the default, in this example.\n",
        "\n",
        "And in training:\n",
        "* `batch_size` - Number of sequences running through the network in one pass.\n",
        "* `seq_length` - Number of characters in the sequence the network is trained on. Larger is better typically, the network will learn more long range dependencies. But it takes longer to train. 100 is typically a good number here.\n",
        "* `lr` - Learning rate for training\n",
        "\n",
        "Here's some good advice from Andrej Karpathy on training the network. I'm going to copy it in here for your benefit, but also link to [where it originally came from](https://github.com/karpathy/char-rnn#tips-and-tricks).\n",
        "\n",
        "> ## Tips and Tricks\n",
        "\n",
        ">### Monitoring Validation Loss vs. Training Loss\n",
        ">If you're somewhat new to Machine Learning or Neural Networks it can take a bit of expertise to get good models. The most important quantity to keep track of is the difference between your training loss (printed during training) and the validation loss (printed once in a while when the RNN is run on the validation data (by default every 1000 iterations)). In particular:\n",
        "\n",
        "> - If your training loss is much lower than validation loss then this means the network might be **overfitting**. Solutions to this are to decrease your network size, or to increase dropout. For example you could try dropout of 0.5 and so on.\n",
        "> - If your training/validation loss are about equal then your model is **underfitting**. Increase the size of your model (either number of layers or the raw number of neurons per layer)\n",
        "\n",
        "> ### Approximate number of parameters\n",
        "\n",
        "> The two most important parameters that control the model are `n_hidden` and `n_layers`. I would advise that you always use `n_layers` of either 2/3. The `n_hidden` can be adjusted based on how much data you have. The two important quantities to keep track of here are:\n",
        "\n",
        "> - The number of parameters in your model. This is printed when you start training.\n",
        "> - The size of your dataset. 1MB file is approximately 1 million characters.\n",
        "\n",
        ">These two should be about the same order of magnitude. It's a little tricky to tell. Here are some examples:\n",
        "\n",
        "> - I have a 100MB dataset and I'm using the default parameter settings (which currently print 150K parameters). My data size is significantly larger (100 mil >> 0.15 mil), so I expect to heavily underfit. I am thinking I can comfortably afford to make `n_hidden` larger.\n",
        "> - I have a 10MB dataset and running a 10 million parameter model. I'm slightly nervous and I'm carefully monitoring my validation loss. If it's larger than my training loss then I may want to try to increase dropout a bit and see if that helps the validation loss.\n",
        "\n",
        "> ### Best models strategy\n",
        "\n",
        ">The winning strategy to obtaining very good models (if you have the compute time) is to always err on making the network larger (as large as you're willing to wait for it to compute) and then try different dropout values (between 0,1). Whatever model has the best validation performance (the loss, written in the checkpoint filename, low is good) is the one you should use in the end.\n",
        "\n",
        ">It is very common in deep learning to run many different models with many different hyperparameter settings, and in the end take whatever checkpoint gave the best validation performance.\n",
        "\n",
        ">By the way, the size of your training and validation splits are also parameters. Make sure you have a decent amount of data in your validation set or otherwise the validation performance will be noisy and not very informative."
      ]
    },
    {
      "metadata": {
        "id": "ASDO-FdQbalb",
        "colab_type": "text"
      },
      "cell_type": "markdown",
      "source": [
        "## Checkpoint\n",
        "\n",
        "After training, we'll save the model so we can load it again later if we need too. Here I'm saving the parameters needed to create the same architecture, the hidden layer hyperparameters and the text characters."
      ]
    },
    {
      "metadata": {
        "id": "J-ontmjRbald",
        "colab_type": "code",
        "colab": {}
      },
      "cell_type": "code",
      "source": [
        "# change the name, for saving multiple files\n",
        "model_name = 'rnn_x_epoch.net'\n",
        "\n",
        "checkpoint = {'n_hidden': net.n_hidden,\n",
        "              'n_layers': net.n_layers,\n",
        "              'state_dict': net.state_dict(),\n",
        "              'tokens': net.chars}\n",
        "\n",
        "with open(model_name, 'wb') as f:\n",
        "    torch.save(checkpoint, f)"
      ],
      "execution_count": 0,
      "outputs": []
    },
    {
      "metadata": {
        "id": "rghe3ycfbalh",
        "colab_type": "text"
      },
      "cell_type": "markdown",
      "source": [
        "---\n",
        "## Making Predictions\n",
        "\n",
        "Now that the model is trained, we'll want to sample from it and make predictions about next characters! To sample, we pass in a character and have the network predict the next character. Then we take that character, pass it back in, and get another predicted character. Just keep doing this and you'll generate a bunch of text!\n",
        "\n",
        "### A note on the `predict`  function\n",
        "\n",
        "The output of our RNN is from a fully-connected layer and it outputs a **distribution of next-character scores**.\n",
        "\n",
        "> To actually get the next character, we apply a softmax function, which gives us a *probability* distribution that we can then sample to predict the next character.\n",
        "\n",
        "### Top K sampling\n",
        "\n",
        "Our predictions come from a categorical probability distribution over all the possible characters. We can make the sample text and make it more reasonable to handle (with less variables) by only considering some $K$ most probable characters. This will prevent the network from giving us completely absurd characters while allowing it to introduce some noise and randomness into the sampled text. Read more about [topk, here](https://pytorch.org/docs/stable/torch.html#torch.topk).\n"
      ]
    },
    {
      "metadata": {
        "id": "HZpkEXNpbali",
        "colab_type": "code",
        "colab": {}
      },
      "cell_type": "code",
      "source": [
        "def predict(net, char, h=None, top_k=None):\n",
        "        ''' Given a character, predict the next character.\n",
        "            Returns the predicted character and the hidden state.\n",
        "        '''\n",
        "        \n",
        "        # tensor inputs\n",
        "        x = np.array([[net.char2int[char]]])\n",
        "        x = one_hot_encode(x, len(net.chars))\n",
        "        inputs = torch.from_numpy(x)\n",
        "        \n",
        "        if(train_on_gpu):\n",
        "            inputs = inputs.cuda()\n",
        "        \n",
        "        # detach hidden state from history\n",
        "        h = tuple([each.data for each in h])\n",
        "        # get the output of the model\n",
        "        out, h = net(inputs, h)\n",
        "\n",
        "        # get the character probabilities\n",
        "        p = F.softmax(out, dim=1).data\n",
        "        if(train_on_gpu):\n",
        "            p = p.cpu() # move to cpu\n",
        "        \n",
        "        # get top characters\n",
        "        if top_k is None:\n",
        "            top_ch = np.arange(len(net.chars))\n",
        "        else:\n",
        "            p, top_ch = p.topk(top_k)\n",
        "            top_ch = top_ch.numpy().squeeze()\n",
        "        \n",
        "        # select the likely next character with some element of randomness\n",
        "        p = p.numpy().squeeze()\n",
        "        char = np.random.choice(top_ch, p=p/p.sum())\n",
        "        \n",
        "        # return the encoded value of the predicted char and the hidden state\n",
        "        return net.int2char[char], h"
      ],
      "execution_count": 0,
      "outputs": []
    },
    {
      "metadata": {
        "id": "bLoZr07jbalm",
        "colab_type": "text"
      },
      "cell_type": "markdown",
      "source": [
        "### Priming and generating text \n",
        "\n",
        "Typically you'll want to prime the network so you can build up a hidden state. Otherwise the network will start out generating characters at random. In general the first bunch of characters will be a little rough since it hasn't built up a long history of characters to predict from."
      ]
    },
    {
      "metadata": {
        "id": "ZdmZ-Crzbaln",
        "colab_type": "code",
        "colab": {}
      },
      "cell_type": "code",
      "source": [
        "def sample(net, size, prime='The', top_k=None):\n",
        "        \n",
        "    if(train_on_gpu):\n",
        "        net.cuda()\n",
        "    else:\n",
        "        net.cpu()\n",
        "    \n",
        "    net.eval() # eval mode\n",
        "    \n",
        "    # First off, run through the prime characters\n",
        "    chars = [ch for ch in prime]\n",
        "    h = net.init_hidden(1)\n",
        "    for ch in prime:\n",
        "        char, h = predict(net, ch, h, top_k=top_k)\n",
        "\n",
        "    chars.append(char)\n",
        "    \n",
        "    # Now pass in the previous character and get a new one\n",
        "    for ii in range(size):\n",
        "        char, h = predict(net, chars[-1], h, top_k=top_k)\n",
        "        chars.append(char)\n",
        "\n",
        "    return ''.join(chars)"
      ],
      "execution_count": 0,
      "outputs": []
    },
    {
      "metadata": {
        "id": "ii-iMfGybalr",
        "colab_type": "code",
        "outputId": "91b74128-321c-4259-a551-cca85ac9a299",
        "colab": {
          "base_uri": "https://localhost:8080/",
          "height": 322
        }
      },
      "cell_type": "code",
      "source": [
        "print(sample(net, 1000, prime='Anna', top_k=5))"
      ],
      "execution_count": 0,
      "outputs": [
        {
          "output_type": "stream",
          "text": [
            "Anna, the profies\n",
            "on his brother to all and something. Seryozha, at\n",
            "the mest of the discorter and some officers with his head to brought anyone, and was a paper of\n",
            "consciousness. But in all the same stare the subject of the people\n",
            "were to do.\n",
            "\n",
            "\"You say so,\" said Sergey Ivanovitch. \"I shall never come to so that I was all so as to have been a solitary\n",
            "door.\"\n",
            "\n",
            "\"Well, what do you come,\" she said to him, he was solition in the same condition at the most antering that he was clutching her\n",
            "as he had any day strung his face of her shade in which he wanted to go. He had not been\n",
            "straight at him, but he could not go on through her. The cascieating out\n",
            "that his head as\n",
            "he ceased a little arm was\n",
            "a started, and her came, and the same subject of the same, always the marsh were so as his candle, and she had succeeded that it was the same conditions of his beasts of conterture. But at the mother thinds was studid at the\n",
            "faces, and was\n",
            "staring to the passion, the marsh came in, was saying herself to himse\n"
          ],
          "name": "stdout"
        }
      ]
    },
    {
      "metadata": {
        "id": "nQMnb3UYbalu",
        "colab_type": "text"
      },
      "cell_type": "markdown",
      "source": [
        "## Loading a checkpoint"
      ]
    },
    {
      "metadata": {
        "id": "sY4D4-vLbalw",
        "colab_type": "code",
        "colab": {}
      },
      "cell_type": "code",
      "source": [
        "# Here we have loaded in a model that trained over 20 epochs `rnn_20_epoch.net`\n",
        "with open('rnn_x_epoch.net', 'rb') as f:\n",
        "    checkpoint = torch.load(f)\n",
        "    \n",
        "loaded = CharRNN(checkpoint['tokens'], n_hidden=checkpoint['n_hidden'], n_layers=checkpoint['n_layers'])\n",
        "loaded.load_state_dict(checkpoint['state_dict'])"
      ],
      "execution_count": 0,
      "outputs": []
    },
    {
      "metadata": {
        "id": "mrcl-T3Kbal1",
        "colab_type": "code",
        "outputId": "3da9edba-9d02-4815-b453-f16091e48918",
        "colab": {
          "base_uri": "https://localhost:8080/",
          "height": 658
        }
      },
      "cell_type": "code",
      "source": [
        "# Sample using a loaded model\n",
        "print(sample(loaded, 2000, top_k=5, prime=\"And Levin said\"))"
      ],
      "execution_count": 0,
      "outputs": [
        {
          "output_type": "stream",
          "text": [
            "And Levin said, and taking it off who\n",
            "had not been\n",
            "said to the children who had been to go off to be taken. His starring stray\n",
            "were suddenly before it. The cracked hands off home to him. He had been felt\n",
            "at once in a few words, and was back in a shooted and his brother.\n",
            "\n",
            "She had been a princess, he fluthed were standing, went out.\n",
            "\n",
            "\"An their chandem in an one of it went out. And then I should here, and then I could something, a distract\n",
            "fellow, to do all the sames of him,\n",
            "and well in me?\"\n",
            "\n",
            "\"Oh! I am not to be deceived.\"\n",
            "\n",
            "And\n",
            "he was a strange of the secret time. The moments was things about, both had never felt thinking and her husband.\n",
            "Thinging that was all, horror, a stern, with society to the same time and his capaciated supper, though it had been and so there, and soon he had to\n",
            "be the marshal,\n",
            "which was a stole as sore, and had the same sound of her coush for\n",
            "her. The doctor changed a service, and the more things so that that the peasants were the same son. The most side were\n",
            "commission to a long while,\n",
            "and was satidiaging to her, that in the\n",
            "starre said in her high, and her close of housesole, and he had not been so\n",
            "money to think\n",
            "of standing taken in the cappituous with her few carriage, and they attached her to the sight, to come to her for her, to\n",
            "speak of his ball time to have all seemed to have\n",
            "had been the capisal, though he did not be thought out\n",
            "of his father. And showed it was so silent,\n",
            "with his beginning and hurred.\n",
            "\n",
            "\"The more, a musing a man of how,\" she said, trying to talk of to him. \"Where's no one,\" said Anna, and at the pitits of the peasants was not\n",
            "seemed about the same feelings. The pointed was an offer of a sense of handsitation. The moment the cast of her figure, where an offer, her face had, the same steps of the morny and her feelings, this carriage attathed an insident time. But they had\n",
            "always does not to bleave any card, a cheek which had another children to be angry of the\n",
            "steps in the\n",
            "moreing.\n",
            "\n",
            "\"Yes,\" said Stepan Arkadyevitch, as though they were \n"
          ],
          "name": "stdout"
        }
      ]
    },
    {
      "metadata": {
        "id": "KaQHTB3gbal6",
        "colab_type": "code",
        "colab": {}
      },
      "cell_type": "code",
      "source": [
        ""
      ],
      "execution_count": 0,
      "outputs": []
    }
  ]
}